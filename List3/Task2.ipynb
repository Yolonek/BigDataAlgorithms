{
 "cells": [
  {
   "cell_type": "markdown",
   "id": "4997a09b-e670-46f4-a022-d3232f6a06cc",
   "metadata": {},
   "source": [
    "# Task 2\n",
    " Let G = ({1, 2, 3, 4, 5, 6}, {1 → 2, 2 → 1, 2 → 2, 2 → 6, 2 → 3, 3 → 4, 4 → 5, 5 →\r\n",
    "6, 6 → 1, 6 → 6}). Consider a random walk on G and find numerically its ergodic\r\n",
    "probabilities."
   ]
  },
  {
   "cell_type": "code",
   "execution_count": 1,
   "id": "21b66eb9-2001-4a74-a45c-f742ad5470d6",
   "metadata": {},
   "outputs": [],
   "source": [
    "import numpy as np\n",
    "import numba\n",
    "from numba.typed import Dict\n",
    "from numba.core import types\n",
    "from matplotlib import pyplot as plt\n",
    "from time import time"
   ]
  },
  {
   "cell_type": "code",
   "execution_count": 2,
   "id": "c32ab6e5-cb18-4fb7-83f8-35db4fe0b242",
   "metadata": {},
   "outputs": [],
   "source": [
    "@numba.njit()\n",
    "def random_walk(graph, initial_node, steps):\n",
    "    current_node = initial_node\n",
    "    node_path = np.zeros(steps, dtype=numba.int16)\n",
    "    for step in range(steps):\n",
    "        choice = np.random.choice(graph[current_node])\n",
    "        if choice != -1:\n",
    "            current_node = choice\n",
    "        node_path[step] = current_node\n",
    "    return node_path"
   ]
  },
  {
   "cell_type": "code",
   "execution_count": 3,
   "id": "c4917d83-37a1-42c4-bc7b-f0d00ba605b4",
   "metadata": {},
   "outputs": [],
   "source": [
    "@numba.njit()\n",
    "def ergodic_probabilities_from_path(graph, node_path):\n",
    "    node_count = np.bincount(node_path)\n",
    "    return node_count / len(node_path)"
   ]
  },
  {
   "cell_type": "code",
   "execution_count": 4,
   "id": "163271cc-0de7-4677-9899-94e951409694",
   "metadata": {},
   "outputs": [
    {
     "name": "stdout",
     "output_type": "stream",
     "text": [
      "1 [2]\n",
      "2 [1, 2, 6, 3]\n",
      "3 [4]\n",
      "4 [5]\n",
      "5 [6]\n",
      "6 [1, 6]\n"
     ]
    },
    {
     "name": "stderr",
     "output_type": "stream",
     "text": [
      "C:\\Users\\thejg\\Desktop\\Programming\\projects39\\lib\\site-packages\\numba\\typed\\typeddict.py:34: NumbaTypeSafetyWarning: \u001b[1m\u001b[1m\u001b[1munsafe cast from int64 to int16. Precision may be lost.\u001b[0m\u001b[0m\u001b[0m\n",
      "  d[key] = value\n"
     ]
    }
   ],
   "source": [
    "G = {\n",
    "    1: [2],\n",
    "    2: [1, 2, 6, 3],\n",
    "    3: [4],\n",
    "    4: [5],\n",
    "    5: [6],\n",
    "    6: [1, 6]\n",
    "}\n",
    "G_numba = Dict.empty(key_type=types.int16, value_type=types.int32[:])\n",
    "for key, value in G.items():\n",
    "    print(key, value)\n",
    "    G_numba[key] = np.array(value)"
   ]
  },
  {
   "cell_type": "code",
   "execution_count": 5,
   "id": "f48eae8d-b7cf-4f26-a577-e185e0fd8565",
   "metadata": {},
   "outputs": [],
   "source": [
    "steps = 10000"
   ]
  },
  {
   "cell_type": "code",
   "execution_count": 6,
   "id": "8a2706b4-3a5e-4866-b595-9144a4f63a27",
   "metadata": {},
   "outputs": [
    {
     "name": "stdout",
     "output_type": "stream",
     "text": [
      "341 µs ± 20.3 µs per loop (mean ± std. dev. of 7 runs, 1 loop each)\n"
     ]
    }
   ],
   "source": [
    "%%timeit\n",
    "ergodic_probabilities_from_path(G_numba,\n",
    "                                random_walk(G_numba, 1, steps))"
   ]
  },
  {
   "cell_type": "code",
   "execution_count": 7,
   "id": "18a7c1db-823f-4bdd-9070-7b8d1f753577",
   "metadata": {},
   "outputs": [],
   "source": [
    "steps = 100_000_000"
   ]
  },
  {
   "cell_type": "code",
   "execution_count": 8,
   "id": "64dca15d-1a0c-4086-bf85-d18cd159f378",
   "metadata": {},
   "outputs": [],
   "source": [
    "start_time = time()\n",
    "walk_result = random_walk(G_numba, 1, steps)\n",
    "probabilities = ergodic_probabilities_from_path(G_numba, walk_result)\n",
    "stop_time = time()\n",
    "time_ = stop_time - start_time"
   ]
  },
  {
   "cell_type": "code",
   "execution_count": 9,
   "id": "f4870fdf-2694-4b1b-9568-56a594a958d2",
   "metadata": {},
   "outputs": [
    {
     "data": {
      "text/plain": [
       "<matplotlib.legend.Legend at 0x2287a50c2e0>"
      ]
     },
     "execution_count": 9,
     "metadata": {},
     "output_type": "execute_result"
    },
    {
     "data": {
      "image/png": "[encoded data removed]",
      "text/plain": [
       "<Figure size 640x480 with 1 Axes>"
      ]
     },
     "metadata": {},
     "output_type": "display_data"
    }
   ],
   "source": [
    "figure, axes = plt.subplots(1, 1, layout='constrained')\n",
    "mean_value = walk_result.mean()\n",
    "axes.hist(walk_result,\n",
    "          color='maroon',\n",
    "          density=True,\n",
    "          alpha=0.7,\n",
    "          bins=6,\n",
    "          align='mid',\n",
    "          ec='black',\n",
    "          rwidth=0.8,\n",
    "          range=(0.5, 6.5))\n",
    "axes.axvline(mean_value,\n",
    "             color='black',\n",
    "             linestyle='--',\n",
    "             label=f'Average count: {mean_value}')\n",
    "axes.set(title=f'Histogram for {steps} steps, time taken: {time_:.4f} s',\n",
    "         xticks=list(G.keys()))\n",
    "axes.legend()"
   ]
  },
  {
   "cell_type": "code",
   "execution_count": 10,
   "id": "135d4e9b-0be1-4a4c-b483-d2e5c512d56e",
   "metadata": {},
   "outputs": [
    {
     "name": "stdout",
     "output_type": "stream",
     "text": [
      "[0.         0.21429019 0.28575382 0.07143078 0.07143078 0.07143078\n",
      " 0.28566365]\n"
     ]
    }
   ],
   "source": [
    "print(probabilities)"
   ]
  }
 ],
 "metadata": {
  "kernelspec": {
   "display_name": "Python 3 (ipykernel)",
   "language": "python",
   "name": "python3"
  },
  "language_info": {
   "codemirror_mode": {
    "name": "ipython",
    "version": 3
   },
   "file_extension": ".py",
   "mimetype": "text/x-python",
   "name": "python",
   "nbconvert_exporter": "python",
   "pygments_lexer": "ipython3",
   "version": "3.9.13"
  }
 },
 "nbformat": 4,
 "nbformat_minor": 5
}
