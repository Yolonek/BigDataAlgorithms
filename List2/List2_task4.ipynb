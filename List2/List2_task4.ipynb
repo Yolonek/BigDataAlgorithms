{
 "cells": [
  {
   "cell_type": "markdown",
   "id": "10e82dfe-9235-419a-8e16-b6ab72d4d96c",
   "metadata": {},
   "source": [
    "## Task 4\n",
    "\n",
    "We throw independently m balls into n bins."
   ]
  },
  {
   "cell_type": "code",
   "execution_count": 1,
   "id": "d79f1738-1bb5-446e-8d11-35da9497f3b2",
   "metadata": {},
   "outputs": [],
   "source": [
    "import numpy as np\n",
    "from time import time\n",
    "import numba\n",
    "import timeit"
   ]
  },
  {
   "cell_type": "code",
   "execution_count": 3,
   "id": "6ed70009-11fc-43c1-a0d4-6f9fa316f552",
   "metadata": {},
   "outputs": [],
   "source": [
    "@numba.njit()\n",
    "def simulate_balls_and_bins(num_of_bins, num_of_balls):\n",
    "    upper_bound = num_of_bins + 1\n",
    "    return np.array([np.random.randint(1, upper_bound) for _ in range(num_of_balls)])"
   ]
  },
  {
   "cell_type": "code",
   "execution_count": 11,
   "id": "f7aeb066-5f8b-4322-8731-6301e8fbcad2",
   "metadata": {},
   "outputs": [],
   "source": [
    "@numba.njit()\n",
    "def count_most_loaded_bin(num_of_bins, num_of_balls):\n",
    "    outcome = simulate_balls_and_bins(num_of_bins, num_of_balls)\n",
    "    return np.bincount(outcome).max()"
   ]
  },
  {
   "cell_type": "code",
   "execution_count": 21,
   "id": "ad162734-2b47-4435-9db1-e92d02d7fa42",
   "metadata": {},
   "outputs": [],
   "source": [
    "@numba.njit(parallel=True)\n",
    "def average_count_most_loaded_bin(num_of_bins, num_of_balls, num_of_trials):\n",
    "    results = np.zeros(num_of_trials)\n",
    "    for i in numba.prange(num_of_trials):\n",
    "        results[i] = count_most_loaded_bin(num_of_bins, num_of_balls)\n",
    "    return results.mean()"
   ]
  },
  {
   "cell_type": "markdown",
   "id": "55322bdf-43c9-434e-84de-090cd54b8120",
   "metadata": {},
   "source": [
    "<ul><li> Repeat this experiment reasonable number of times for m = n = 1000. Then find\n",
    "the average number of balls in the most loaded bin.</li></ul>"
   ]
  },
  {
   "cell_type": "code",
   "execution_count": 23,
   "id": "2f8f4f10-5c1e-4c19-9095-5c3a9a805f20",
   "metadata": {},
   "outputs": [],
   "source": [
    "n = 1000\n",
    "m = 1000\n",
    "trials = 1000000"
   ]
  },
  {
   "cell_type": "code",
   "execution_count": 15,
   "id": "872ea681-6be8-4756-9bc2-1c132e061556",
   "metadata": {},
   "outputs": [
    {
     "name": "stdout",
     "output_type": "stream",
     "text": [
      "7.56 µs ± 61.4 ns per loop (mean ± std. dev. of 7 runs, 100,000 loops each)\n"
     ]
    }
   ],
   "source": [
    "%%timeit\n",
    "simulate_balls_and_bins(n, m)"
   ]
  },
  {
   "cell_type": "code",
   "execution_count": 16,
   "id": "01ab2c81-cb91-41ae-b0d1-98407f80a184",
   "metadata": {},
   "outputs": [
    {
     "name": "stdout",
     "output_type": "stream",
     "text": [
      "8.81 µs ± 63.3 ns per loop (mean ± std. dev. of 7 runs, 100,000 loops each)\n"
     ]
    }
   ],
   "source": [
    "%%timeit\n",
    "count_most_loaded_bin(n, m)"
   ]
  },
  {
   "cell_type": "code",
   "execution_count": 24,
   "id": "028d37c4-5eea-430c-9f45-5a32f902fd9b",
   "metadata": {},
   "outputs": [
    {
     "name": "stdout",
     "output_type": "stream",
     "text": [
      "1.43 s ± 80.4 ms per loop (mean ± std. dev. of 7 runs, 1 loop each)\n"
     ]
    }
   ],
   "source": [
    "%%timeit\n",
    "average_count_most_loaded_bin(n, m, trials)"
   ]
  },
  {
   "cell_type": "code",
   "execution_count": 26,
   "id": "9a295553-6fe8-49d8-9027-ce1368993918",
   "metadata": {},
   "outputs": [
    {
     "name": "stdout",
     "output_type": "stream",
     "text": [
      "Average count for 1000 bins and 1000 balls is 5.5134\n"
     ]
    }
   ],
   "source": [
    "average_count = average_count_most_loaded_bin(n, m, trials)\n",
    "print(f'Average count for {n} bins and {m} balls is {average_count}')"
   ]
  },
  {
   "cell_type": "markdown",
   "id": "e1a69c10-04c2-4dc0-b878-ba6294c65c0a",
   "metadata": {},
   "source": [
    "<ul><li> Repeat this experiment reasonable number of times for m = 100, n = 1000. Then\r\n",
    "find the average number of balls in the most loaded bin.\r",
    "</li></ul>"
   ]
  },
  {
   "cell_type": "code",
   "execution_count": 27,
   "id": "2b6d707b-8d33-4b87-bf1f-c61e48bf732f",
   "metadata": {},
   "outputs": [],
   "source": [
    "n = 1000\n",
    "m = 100\n",
    "trials = 1000000"
   ]
  },
  {
   "cell_type": "code",
   "execution_count": 28,
   "id": "39dcc68e-9f15-4afd-8c37-f2f9db0c890e",
   "metadata": {},
   "outputs": [
    {
     "name": "stdout",
     "output_type": "stream",
     "text": [
      "212 ms ± 14 ms per loop (mean ± std. dev. of 7 runs, 1 loop each)\n"
     ]
    }
   ],
   "source": [
    "%%timeit\n",
    "average_count_most_loaded_bin(n, m, trials)"
   ]
  },
  {
   "cell_type": "code",
   "execution_count": 29,
   "id": "38fb364f-4e1c-486f-a3a8-751066f51858",
   "metadata": {},
   "outputs": [
    {
     "name": "stdout",
     "output_type": "stream",
     "text": [
      "Average count for 1000 bins and 100 balls is 2.138265\n"
     ]
    }
   ],
   "source": [
    "average_count = average_count_most_loaded_bin(n, m, trials)\n",
    "print(f'Average count for {n} bins and {m} balls is {average_count}')"
   ]
  },
  {
   "cell_type": "markdown",
   "id": "d4279d2d-0b04-446d-bb7e-ec6f43a0b1ba",
   "metadata": {},
   "source": [
    "<ul><li> Repeat this experiment reasonable number of times for m = 2000, n = 100. Then\r\n",
    "find the average number of balls in the most loaded bin.\r",
    "</li></ul>"
   ]
  },
  {
   "cell_type": "code",
   "execution_count": 30,
   "id": "6f4c71bd-1c7d-48b4-9b59-aabdf27762f9",
   "metadata": {},
   "outputs": [],
   "source": [
    "n = 100\n",
    "m = 2000\n",
    "trials = 1000000"
   ]
  },
  {
   "cell_type": "code",
   "execution_count": 31,
   "id": "60aef737-5a03-49e2-b033-ee75fcebf1a7",
   "metadata": {},
   "outputs": [
    {
     "name": "stdout",
     "output_type": "stream",
     "text": [
      "3.23 s ± 62.8 ms per loop (mean ± std. dev. of 7 runs, 1 loop each)\n"
     ]
    }
   ],
   "source": [
    "%%timeit\n",
    "average_count_most_loaded_bin(n, m, trials)"
   ]
  },
  {
   "cell_type": "code",
   "execution_count": 32,
   "id": "ea1fb45c-a476-4354-9e5d-e29cdc81ecb2",
   "metadata": {},
   "outputs": [
    {
     "name": "stdout",
     "output_type": "stream",
     "text": [
      "Average count for 100 bins and 2000 balls is 32.066796\n"
     ]
    }
   ],
   "source": [
    "average_count = average_count_most_loaded_bin(n, m, trials)\n",
    "print(f'Average count for {n} bins and {m} balls is {average_count}')"
   ]
  },
  {
   "cell_type": "markdown",
   "id": "bc2732f9-c290-4194-8d02-c8f005ed76ac",
   "metadata": {},
   "source": [
    "<ul><li> Repeat this experiment reasonable number of times for m = n = 1000 and find\r\n",
    "the average number of empty bins.</li></ul>"
   ]
  },
  {
   "cell_type": "code",
   "execution_count": 36,
   "id": "ce96c126-a38d-44b9-aa89-ac404df70012",
   "metadata": {},
   "outputs": [],
   "source": [
    "@numba.njit()\n",
    "def count_empty_bins(num_of_bins, num_of_balls):\n",
    "    outcome = set(simulate_balls_and_bins(num_of_bins, num_of_balls))\n",
    "    return num_of_bins - len(outcome)"
   ]
  },
  {
   "cell_type": "code",
   "execution_count": 46,
   "id": "3ba3c7ab-efe8-4452-98f8-ed747478ef17",
   "metadata": {},
   "outputs": [],
   "source": [
    "@numba.njit(parallel=True)\n",
    "def average_count_empty_bins(num_of_bins, num_of_balls, num_of_trials):\n",
    "    results = np.zeros(num_of_trials)\n",
    "    for i in numba.prange(num_of_trials):\n",
    "        results[i] = count_empty_bins(num_of_bins, num_of_balls)\n",
    "    return results.mean()"
   ]
  },
  {
   "cell_type": "code",
   "execution_count": 42,
   "id": "3a47ffcd-4128-4000-be56-fd5259ad1a3c",
   "metadata": {},
   "outputs": [],
   "source": [
    "n = 1000\n",
    "m = 1000\n",
    "trials = 1000000"
   ]
  },
  {
   "cell_type": "code",
   "execution_count": 43,
   "id": "4d95c6ec-5697-4438-9408-08bad49275cf",
   "metadata": {},
   "outputs": [
    {
     "name": "stdout",
     "output_type": "stream",
     "text": [
      "13.5 µs ± 313 ns per loop (mean ± std. dev. of 7 runs, 100,000 loops each)\n"
     ]
    }
   ],
   "source": [
    "%%timeit\n",
    "count_empty_bins(n, m)"
   ]
  },
  {
   "cell_type": "code",
   "execution_count": 47,
   "id": "2053b11e-b6df-4df5-9bf5-71f10c0da631",
   "metadata": {},
   "outputs": [
    {
     "name": "stdout",
     "output_type": "stream",
     "text": [
      "2.18 s ± 61.3 ms per loop (mean ± std. dev. of 7 runs, 1 loop each)\n"
     ]
    }
   ],
   "source": [
    "%%timeit\n",
    "average_count_empty_bins(n, m, trials)"
   ]
  },
  {
   "cell_type": "code",
   "execution_count": 48,
   "id": "5c3fae8e-dd54-4950-82b1-d9f33e69d25d",
   "metadata": {},
   "outputs": [
    {
     "name": "stdout",
     "output_type": "stream",
     "text": [
      "Average count for 1000 bins and 1000 balls is 367.691701\n"
     ]
    }
   ],
   "source": [
    "average_count = average_count_empty_bins(n, m, trials)\n",
    "print(f'Average count for {n} bins and {m} balls is {average_count}')"
   ]
  },
  {
   "cell_type": "code",
   "execution_count": null,
   "id": "5fe61892-855d-4f1f-8d8d-fedf2a343812",
   "metadata": {},
   "outputs": [],
   "source": []
  }
 ],
 "metadata": {
  "kernelspec": {
   "display_name": "Python 3 (ipykernel)",
   "language": "python",
   "name": "python3"
  },
  "language_info": {
   "codemirror_mode": {
    "name": "ipython",
    "version": 3
   },
   "file_extension": ".py",
   "mimetype": "text/x-python",
   "name": "python",
   "nbconvert_exporter": "python",
   "pygments_lexer": "ipython3",
   "version": "3.9.13"
  }
 },
 "nbformat": 4,
 "nbformat_minor": 5
}
