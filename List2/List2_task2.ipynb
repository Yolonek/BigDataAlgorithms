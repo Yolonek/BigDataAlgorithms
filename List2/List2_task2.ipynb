{
 "cells": [
  {
   "cell_type": "markdown",
   "id": "8c727b53-9525-46e0-8def-7e83b62de2aa",
   "metadata": {},
   "source": [
    "## Task 2\n",
    "We throw independently balls into n bins until all bins are non-empty. Let C be the\n",
    "number of thrown balls."
   ]
  },
  {
   "cell_type": "code",
   "execution_count": 1,
   "id": "5d558cd0-d22d-4b66-89fd-3ca4b0aa0f41",
   "metadata": {},
   "outputs": [],
   "source": [
    "import timeit\n",
    "import numpy as np\n",
    "import sympy as sp\n",
    "import itertools\n",
    "import numba\n",
    "from time import time\n",
    "from matplotlib import pyplot as plt"
   ]
  },
  {
   "cell_type": "markdown",
   "id": "f3b9d15e-e8eb-499f-91b5-1d9db0d7ffde",
   "metadata": {},
   "source": [
    "Let's try 4 different approaches to execute the function and one with using numba"
   ]
  },
  {
   "cell_type": "code",
   "execution_count": 2,
   "id": "cea16a89-749f-4c6a-bcb8-200ee95c7705",
   "metadata": {},
   "outputs": [],
   "source": [
    "def simulate_bins_and_balls_1(num_of_bins):\n",
    "    upper_bound = num_of_bins + 1\n",
    "    histogram = {bin_: 0 for bin_ in range(1, upper_bound)}\n",
    "    while 0 in histogram.values():\n",
    "        histogram[np.random.randint(1, upper_bound)] += 1\n",
    "    return np.array(list(histogram.values())).sum()"
   ]
  },
  {
   "cell_type": "code",
   "execution_count": 3,
   "id": "77b2eb0c-c9e1-4269-aaeb-c25486a703ef",
   "metadata": {},
   "outputs": [],
   "source": [
    "def simulate_bins_and_balls_2(num_of_bins):\n",
    "    occurrences = set()\n",
    "    upper_bound = num_of_bins + 1\n",
    "    for counter in itertools.count(start=1, step=1):\n",
    "        occurrences.add(np.random.randint(1, upper_bound))\n",
    "        if len(occurrences) == num_of_bins:\n",
    "            return counter"
   ]
  },
  {
   "cell_type": "code",
   "execution_count": 4,
   "id": "8901a445-2a72-4731-b2cb-1926474d370b",
   "metadata": {},
   "outputs": [],
   "source": [
    "def simulate_bins_and_balls_3(num_of_bins):\n",
    "    occurrences = set()\n",
    "    counter = 0\n",
    "    upper_bound = num_of_bins + 1\n",
    "    while len(occurrences) < num_of_bins:\n",
    "        occurrences.add(np.random.randint(1, upper_bound))\n",
    "        counter += 1\n",
    "    return counter"
   ]
  },
  {
   "cell_type": "code",
   "execution_count": 5,
   "id": "1149f6d0-3ad4-408e-9e7c-4c0b80daae3f",
   "metadata": {},
   "outputs": [],
   "source": [
    "@numba.njit()\n",
    "def simulate_bins_and_balls_4(num_of_bins):\n",
    "    occurrences = set()\n",
    "    counter = 0\n",
    "    upper_bound = num_of_bins + 1\n",
    "    while len(occurrences) < num_of_bins:\n",
    "        occurrences.add(np.random.randint(1, upper_bound))\n",
    "        counter += 1\n",
    "    return counter"
   ]
  },
  {
   "cell_type": "code",
   "execution_count": 6,
   "id": "120bfd4a-e1c5-49dc-982e-ab6d6f2b6a69",
   "metadata": {},
   "outputs": [],
   "source": [
    "number_of_bins = 10000"
   ]
  },
  {
   "cell_type": "markdown",
   "id": "d2058c1e-9442-4f24-9dfb-47f16683eed8",
   "metadata": {},
   "source": [
    "Let's see example experiment results"
   ]
  },
  {
   "cell_type": "code",
   "execution_count": 7,
   "id": "9a7ab34e-f9c3-4097-9cbc-98ae43f0f7b1",
   "metadata": {},
   "outputs": [
    {
     "name": "stdout",
     "output_type": "stream",
     "text": [
      "Function 1: 106616\n",
      "Function 2: 80188\n",
      "Function 3: 147183\n",
      "Function 4: 80583\n"
     ]
    }
   ],
   "source": [
    "print(f'Function 1: {simulate_bins_and_balls_1(number_of_bins)}')\n",
    "print(f'Function 2: {simulate_bins_and_balls_2(number_of_bins)}')\n",
    "print(f'Function 3: {simulate_bins_and_balls_3(number_of_bins)}')\n",
    "print(f'Function 4: {simulate_bins_and_balls_4(number_of_bins)}')"
   ]
  },
  {
   "cell_type": "markdown",
   "id": "96af2a24-717c-4a5b-9286-b1762d6c01f5",
   "metadata": {},
   "source": [
    "Let's compare the performance"
   ]
  },
  {
   "cell_type": "code",
   "execution_count": 8,
   "id": "31e3d67f-79e2-4836-a8bf-6928cda0c65e",
   "metadata": {},
   "outputs": [
    {
     "name": "stdout",
     "output_type": "stream",
     "text": [
      "The slowest run took 7.24 times longer than the fastest. This could mean that an intermediate result is being cached.\n",
      "1.28 s ± 1e+03 ms per loop (mean ± std. dev. of 7 runs, 1 loop each)\n"
     ]
    }
   ],
   "source": [
    "%%timeit\n",
    "simulate_bins_and_balls_1(number_of_bins)"
   ]
  },
  {
   "cell_type": "code",
   "execution_count": 9,
   "id": "c8471fa4-fc01-4858-b146-7978b2a4c472",
   "metadata": {},
   "outputs": [
    {
     "name": "stdout",
     "output_type": "stream",
     "text": [
      "281 ms ± 30.6 ms per loop (mean ± std. dev. of 7 runs, 1 loop each)\n"
     ]
    }
   ],
   "source": [
    "%%timeit\n",
    "simulate_bins_and_balls_2(number_of_bins)"
   ]
  },
  {
   "cell_type": "code",
   "execution_count": 10,
   "id": "d8bc76d6-a125-4920-84de-f876c3e8bb46",
   "metadata": {},
   "outputs": [
    {
     "name": "stdout",
     "output_type": "stream",
     "text": [
      "286 ms ± 27.6 ms per loop (mean ± std. dev. of 7 runs, 1 loop each)\n"
     ]
    }
   ],
   "source": [
    "%%timeit\n",
    "simulate_bins_and_balls_3(number_of_bins)"
   ]
  },
  {
   "cell_type": "code",
   "execution_count": 11,
   "id": "70db5e77-862c-4fdb-9eaf-ecb0c0234616",
   "metadata": {},
   "outputs": [
    {
     "name": "stdout",
     "output_type": "stream",
     "text": [
      "2.28 ms ± 39.7 µs per loop (mean ± std. dev. of 7 runs, 100 loops each)\n"
     ]
    }
   ],
   "source": [
    "%%timeit\n",
    "simulate_bins_and_balls_4(number_of_bins)"
   ]
  },
  {
   "cell_type": "markdown",
   "id": "6e86a165-68fb-45fa-8910-d9938e339307",
   "metadata": {},
   "source": [
    "Let's repeat the experiment many times and compare three different combinations"
   ]
  },
  {
   "cell_type": "code",
   "execution_count": 12,
   "id": "11dc7a37-8b74-4c9f-bf5a-0057c675d849",
   "metadata": {},
   "outputs": [],
   "source": [
    "def repeat_experiments_1(num_of_bins, num_of_trials):\n",
    "    return np.fromiter((simulate_bins_and_balls_2(num_of_bins) for _ in range(num_of_trials)), int)"
   ]
  },
  {
   "cell_type": "code",
   "execution_count": 13,
   "id": "aa91e70d-841f-4f88-acf9-5740e76d7838",
   "metadata": {},
   "outputs": [],
   "source": [
    "@numba.njit()\n",
    "def repeat_experiments_2(num_of_bins, num_of_trials):\n",
    "    results = np.zeros(num_of_trials)\n",
    "    for i in range(num_of_trials):\n",
    "        results[i] = simulate_bins_and_balls_4(num_of_bins)\n",
    "    return results "
   ]
  },
  {
   "cell_type": "code",
   "execution_count": 14,
   "id": "7d40d0c7-de1b-407e-942c-d33ebf53277b",
   "metadata": {},
   "outputs": [],
   "source": [
    "@numba.njit(parallel=True)\n",
    "def repeat_experiments_3(num_of_bins, num_of_trials):\n",
    "    results = np.zeros(num_of_trials)\n",
    "    for i in numba.prange(num_of_trials):\n",
    "        results[i] = simulate_bins_and_balls_4(num_of_bins)\n",
    "    return results "
   ]
  },
  {
   "cell_type": "markdown",
   "id": "cd4cf2ce-25b8-4fac-8b04-0588bd536fd1",
   "metadata": {},
   "source": [
    "Let's see example experiment results"
   ]
  },
  {
   "cell_type": "code",
   "execution_count": 15,
   "id": "80744ae9-ef2f-4ff6-87bf-0e36d2d3753c",
   "metadata": {},
   "outputs": [],
   "source": [
    "number_of_bins = 200\n",
    "number_of_trials = 20"
   ]
  },
  {
   "cell_type": "code",
   "execution_count": 16,
   "id": "9ad51fb0-cdf9-46b8-9e28-86277d60e5e5",
   "metadata": {},
   "outputs": [
    {
     "name": "stdout",
     "output_type": "stream",
     "text": [
      "Experiment 1: [1105  950 1010 1129 1502 1352 1526 1980 1255 1110  894  939  898 1112\n",
      "  979 1056 1608 1043  831 1056]\n",
      "Experiment 2: [1055. 1222. 1014. 1184.  950. 1100. 1155. 1383. 1294. 1096. 2303. 2114.\n",
      " 1043. 1277. 1519. 1110.  910. 1072. 1133. 1206.]\n",
      "Experiment 3: [1168. 1045. 1345. 1176. 1026. 1045. 1302.  930. 1536. 1125. 1597. 1226.\n",
      " 1079. 1102. 1371. 1248. 1083. 1127. 1090.  889.]\n"
     ]
    }
   ],
   "source": [
    "print(f'Experiment 1: {repeat_experiments_1(number_of_bins, number_of_trials)}')\n",
    "print(f'Experiment 2: {repeat_experiments_2(number_of_bins, number_of_trials)}')\n",
    "print(f'Experiment 3: {repeat_experiments_3(number_of_bins, number_of_trials)}')"
   ]
  },
  {
   "cell_type": "markdown",
   "id": "ebcb38e2-714d-45ec-bea4-b23276cb324a",
   "metadata": {},
   "source": [
    "Now let's check the performance of all solutions"
   ]
  },
  {
   "cell_type": "code",
   "execution_count": 17,
   "id": "1ca86729-0668-4a1f-bc2b-58cd7d336a55",
   "metadata": {},
   "outputs": [],
   "source": [
    "number_of_trials = 5000"
   ]
  },
  {
   "cell_type": "code",
   "execution_count": 18,
   "id": "7ff5fb3c-2e61-4222-9944-ec6bb63d208d",
   "metadata": {},
   "outputs": [
    {
     "name": "stdout",
     "output_type": "stream",
     "text": [
      "15.7 s ± 73.7 ms per loop (mean ± std. dev. of 7 runs, 1 loop each)\n"
     ]
    }
   ],
   "source": [
    "%%timeit\n",
    "repeat_experiments_1(number_of_bins, number_of_trials)"
   ]
  },
  {
   "cell_type": "code",
   "execution_count": 19,
   "id": "004345e8-a913-42fc-ac85-c906cc4163de",
   "metadata": {},
   "outputs": [
    {
     "name": "stdout",
     "output_type": "stream",
     "text": [
      "112 ms ± 1.43 ms per loop (mean ± std. dev. of 7 runs, 10 loops each)\n"
     ]
    }
   ],
   "source": [
    "%%timeit\n",
    "repeat_experiments_2(number_of_bins, number_of_trials)"
   ]
  },
  {
   "cell_type": "code",
   "execution_count": 20,
   "id": "11c985ff-35a0-4da2-b185-a0b86767c2f5",
   "metadata": {},
   "outputs": [
    {
     "name": "stdout",
     "output_type": "stream",
     "text": [
      "17.1 ms ± 793 µs per loop (mean ± std. dev. of 7 runs, 100 loops each)\n"
     ]
    }
   ],
   "source": [
    "%%timeit\n",
    "repeat_experiments_3(number_of_bins, number_of_trials)"
   ]
  },
  {
   "cell_type": "markdown",
   "id": "92c82235-35a9-4023-8d63-a1171288db7d",
   "metadata": {},
   "source": [
    "Let's check how much time it takes to run 1000 bins 1000000 times"
   ]
  },
  {
   "cell_type": "code",
   "execution_count": 21,
   "id": "4664f668-e26c-4cd5-98c6-d1465276a2d7",
   "metadata": {},
   "outputs": [
    {
     "name": "stdout",
     "output_type": "stream",
     "text": [
      "16.2 s ± 274 ms per loop (mean ± std. dev. of 7 runs, 1 loop each)\n"
     ]
    }
   ],
   "source": [
    "%%timeit\n",
    "repeat_experiments_3(1000, 1000000)"
   ]
  },
  {
   "cell_type": "code",
   "execution_count": 22,
   "id": "4fc480f7-1918-4eb8-ae42-f60f99c75dc9",
   "metadata": {},
   "outputs": [
    {
     "name": "stdout",
     "output_type": "stream",
     "text": [
      "0.125 1.3215 17.1945\n"
     ]
    }
   ],
   "source": [
    "parameters = [10, 100, 1000]\n",
    "histograms = []\n",
    "times = []\n",
    "number_of_trials = 1000000\n",
    "\n",
    "for n in parameters:\n",
    "    time1 = time()\n",
    "    histograms.append(repeat_experiments_3(n, number_of_trials))\n",
    "    time2 = time()\n",
    "    times.append(round(time2 - time1, 5))\n",
    "print(*times)"
   ]
  },
  {
   "cell_type": "code",
   "execution_count": 23,
   "id": "14811862-1f28-4ffe-95c4-3cca1ace59cc",
   "metadata": {},
   "outputs": [
    {
     "data": {
      "image/png": "[encoded data removed]",
      "text/plain": [
       "<Figure size 700x1400 with 3 Axes>"
      ]
     },
     "metadata": {},
     "output_type": "display_data"
    }
   ],
   "source": [
    "figure, axes = plt.subplots(3, 1, layout='constrained', figsize=(7,14))\n",
    "\n",
    "bins = [50, 100, 200]\n",
    "colors = ['maroon', 'darkgreen', 'darkblue']\n",
    "for index, (result, num_bins, color, time_, bin_) in enumerate(zip(histograms, parameters, colors, times, bins)):\n",
    "    axes[index].hist(result, bins=bin_, color=color, alpha=0.7)\n",
    "    title = f'Histogram for n = {num_bins}, {number_of_trials} trials, time taken: {time_} s'\n",
    "    axes[index].set(title=title)"
   ]
  },
  {
   "cell_type": "markdown",
   "id": "5c850d2a-cdf3-4a3b-a2d6-84dd7a201285",
   "metadata": {},
   "source": [
    "<ul><li> n ∈ [10, 50000] find an approximation of E(C). Compare this with the theoretical results presented during the lecture.</li></ul>"
   ]
  },
  {
   "cell_type": "code",
   "execution_count": 24,
   "id": "613b41cb-7ca9-48b5-9061-b2aeac2df431",
   "metadata": {},
   "outputs": [],
   "source": [
    "bin_range = np.arange(10, 100, 10)"
   ]
  },
  {
   "cell_type": "code",
   "execution_count": 25,
   "id": "c0599bd7-68e4-467c-9910-a34adfb70cca",
   "metadata": {},
   "outputs": [],
   "source": [
    "def expected_value_1(n_range, num_of_trials):\n",
    "    expected_value = np.zeros(len(n_range))\n",
    "    for index, n in enumerate(n_range):\n",
    "        expected_value[index] = repeat_experiments_3(n, num_of_trials).mean()\n",
    "    return expected_value"
   ]
  },
  {
   "cell_type": "code",
   "execution_count": 26,
   "id": "1978e608-502c-400f-912e-6c7b66c14fc4",
   "metadata": {},
   "outputs": [],
   "source": [
    "@numba.njit()\n",
    "def expected_value_2(n_range, num_of_trials):\n",
    "    expected_value = np.zeros(len(n_range))\n",
    "    for index, n in enumerate(n_range):\n",
    "        expected_value[index] = repeat_experiments_3(n, num_of_trials).mean()\n",
    "    return expected_value"
   ]
  },
  {
   "cell_type": "code",
   "execution_count": 27,
   "id": "9a20c199-1f12-4c9e-bbbd-3db9a3a22673",
   "metadata": {},
   "outputs": [],
   "source": [
    "@numba.njit(parallel=True)\n",
    "def expected_value_3(n_range, num_of_trials):\n",
    "    expected_value = np.zeros(len(n_range))\n",
    "    for i in numba.prange(len(n_range)):\n",
    "        expected_value[i] = repeat_experiments_3(n_range[i], num_of_trials).mean()\n",
    "    return expected_value"
   ]
  },
  {
   "cell_type": "markdown",
   "id": "865db66d-f437-42b3-89a9-0fd4000daf40",
   "metadata": {},
   "source": [
    "Let's test if it works correctly"
   ]
  },
  {
   "cell_type": "code",
   "execution_count": 28,
   "id": "71970cfb-06cc-457b-8632-d1913a2a6f6b",
   "metadata": {},
   "outputs": [
    {
     "name": "stdout",
     "output_type": "stream",
     "text": [
      "Expected value 1: [ 29.2302  72.2741 119.4532 171.056  225.9192 280.8503 339.0351 397.0774\n",
      " 460.062 ]\n",
      "Expected value 2: [ 29.2006  71.9106 119.7709 171.7558 225.9133 281.4161 339.8818 397.2315\n",
      " 459.0996]\n",
      "Expected value 3: [ 29.3994  71.9333 119.5861 171.8102 224.4023 281.1092 337.519  395.8971\n",
      " 457.3043]\n"
     ]
    }
   ],
   "source": [
    "print(f'Expected value 1: {expected_value_1(bin_range, 10000)}')\n",
    "print(f'Expected value 2: {expected_value_2(bin_range, 10000)}')\n",
    "print(f'Expected value 3: {expected_value_3(bin_range, 10000)}')"
   ]
  },
  {
   "cell_type": "markdown",
   "id": "40b00730-ca00-4fa5-941f-c52dbe11967e",
   "metadata": {},
   "source": [
    "let's check performance"
   ]
  },
  {
   "cell_type": "code",
   "execution_count": 29,
   "id": "a2c6753b-677d-447c-ac70-3df93e3920e4",
   "metadata": {},
   "outputs": [],
   "source": [
    "bin_range = np.arange(10, 5000, 100)"
   ]
  },
  {
   "cell_type": "code",
   "execution_count": 30,
   "id": "d143b0e6-69bd-4700-ade4-b74f2afa4303",
   "metadata": {},
   "outputs": [
    {
     "name": "stdout",
     "output_type": "stream",
     "text": [
      "3.09 s ± 75.9 ms per loop (mean ± std. dev. of 7 runs, 1 loop each)\n"
     ]
    }
   ],
   "source": [
    "%%timeit\n",
    "expected_value_1(bin_range, 1000)"
   ]
  },
  {
   "cell_type": "code",
   "execution_count": 31,
   "id": "2078effd-aa37-4c45-ad85-f0f06ad47c9e",
   "metadata": {},
   "outputs": [
    {
     "name": "stdout",
     "output_type": "stream",
     "text": [
      "3.05 s ± 30 ms per loop (mean ± std. dev. of 7 runs, 1 loop each)\n"
     ]
    }
   ],
   "source": [
    "%%timeit\n",
    "expected_value_2(bin_range, 1000)"
   ]
  },
  {
   "cell_type": "code",
   "execution_count": 32,
   "id": "22e068fa-3fd7-4afb-abc6-96296939f370",
   "metadata": {},
   "outputs": [
    {
     "name": "stdout",
     "output_type": "stream",
     "text": [
      "4.17 s ± 113 ms per loop (mean ± std. dev. of 7 runs, 1 loop each)\n"
     ]
    }
   ],
   "source": [
    "%%timeit\n",
    "expected_value_3(bin_range, 1000)"
   ]
  },
  {
   "cell_type": "markdown",
   "id": "c94df388-e7ed-49ef-8b7c-a76063bb254d",
   "metadata": {},
   "source": [
    "We can see that repeating parallel again is not as efficient, as it was done twice earlier. We can stick to option 1."
   ]
  },
  {
   "cell_type": "code",
   "execution_count": 33,
   "id": "9e7536c8-522e-4c5d-9f8c-31461731864a",
   "metadata": {},
   "outputs": [],
   "source": [
    "bin_range = np.arange(10, 5000, 20)\n",
    "trials = 1000"
   ]
  },
  {
   "cell_type": "code",
   "execution_count": 34,
   "id": "0b9741fa-44fe-4dab-b03a-519728d56e6f",
   "metadata": {},
   "outputs": [],
   "source": [
    "time1 = time()\n",
    "expected_value_range = expected_value_1(bin_range, trials)\n",
    "time2 = time()\n",
    "time_passed = round(time2 - time1, 3)"
   ]
  },
  {
   "cell_type": "code",
   "execution_count": 35,
   "id": "d56079b4-afbb-4698-8a4f-e952baf43d57",
   "metadata": {},
   "outputs": [],
   "source": [
    "x = sp.symbols('N', integer=True)\n",
    "f = x * sp.ln(x) + 0.577 * x\n",
    "f_x = sp.lambdify(x, f, 'numpy')(bin_range)"
   ]
  },
  {
   "cell_type": "code",
   "execution_count": 36,
   "id": "e50a0005-0a39-4c9f-87bc-60b90e048885",
   "metadata": {
    "jupyter": {
     "source_hidden": true
    }
   },
   "outputs": [
    {
     "data": {
      "text/plain": [
       "<matplotlib.legend.Legend at 0x22649406af0>"
      ]
     },
     "execution_count": 36,
     "metadata": {},
     "output_type": "execute_result"
    },
    {
     "data": {
      "image/png": "[encoded data removed]",
      "text/plain": [
       "<Figure size 640x480 with 1 Axes>"
      ]
     },
     "metadata": {},
     "output_type": "display_data"
    }
   ],
   "source": [
    "figure2, axes2 = plt.subplots(1, 1, layout='constrained')\n",
    "axes2.set(xlabel='N', ylabel='E(C)')\n",
    "axes2.set_title(f'Results for {trials} trials, time taken: {time_passed} s')\n",
    "axes2.grid()\n",
    "axes2.plot(bin_range, f_x, color='red', linestyle='--', label='$E(C)=N \\ln{N} + \\gamma N$')\n",
    "axes2.plot(bin_range, expected_value_range, color='black', label='Numerical estimation', alpha=0.7)\n",
    "axes2.legend()"
   ]
  },
  {
   "cell_type": "code",
   "execution_count": null,
   "id": "a919b7f8-4379-4f9a-8684-f7c7e5eba638",
   "metadata": {},
   "outputs": [],
   "source": []
  }
 ],
 "metadata": {
  "kernelspec": {
   "display_name": "Python 3 (ipykernel)",
   "language": "python",
   "name": "python3"
  },
  "language_info": {
   "codemirror_mode": {
    "name": "ipython",
    "version": 3
   },
   "file_extension": ".py",
   "mimetype": "text/x-python",
   "name": "python",
   "nbconvert_exporter": "python",
   "pygments_lexer": "ipython3",
   "version": "3.9.13"
  }
 },
 "nbformat": 4,
 "nbformat_minor": 5
}
